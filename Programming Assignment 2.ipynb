{
 "cells": [
  {
   "cell_type": "code",
   "execution_count": 1,
   "id": "44410667",
   "metadata": {},
   "outputs": [],
   "source": [
    "makeCacheMatrix <- function(x = matrix()) {\n",
    "  j <- NULL\n",
    "  set <- function(y){\n",
    "  x <<- y\n",
    "  j <<- NULL\n",
    "  }\n",
    "  get <- function()x\n",
    "  setInverse <- function(inverse) j <<- inverse\n",
    "  getInverse <- function() j \n",
    "  list(set = set, get = get, \n",
    "  setInverse = setInverse, \n",
    "  getInverse = getInverse)\n",
    "}\n",
    "\n",
    "##Please include your own comment to explain your code (Required in Rubric)\n",
    "\n",
    "cacheSolve <- function(x, ...) {\n",
    "## Return a matrix that is the inverse of 'x'\n",
    "  j <- x$getInverse()\n",
    "  if(!is.null(j)){\n",
    "  message(\"getting cached data\")\n",
    "  return(j)\n",
    "  }\n",
    "  mat <- x$get()\n",
    "  j <- solve(mat,...)\n",
    "  x$setInverse(j)\n",
    "  j\n",
    "}"
   ]
  },
  {
   "cell_type": "code",
   "execution_count": null,
   "id": "aeaf3111",
   "metadata": {},
   "outputs": [],
   "source": []
  }
 ],
 "metadata": {
  "kernelspec": {
   "display_name": "R",
   "language": "R",
   "name": "ir"
  },
  "language_info": {
   "codemirror_mode": "r",
   "file_extension": ".r",
   "mimetype": "text/x-r-source",
   "name": "R",
   "pygments_lexer": "r",
   "version": "3.6.1"
  }
 },
 "nbformat": 4,
 "nbformat_minor": 5
}
